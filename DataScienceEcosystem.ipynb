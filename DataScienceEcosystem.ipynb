{
 "cells": [
  {
   "cell_type": "markdown",
   "id": "285e58bd-c844-4dc5-acd4-4dbcf53cc1f7",
   "metadata": {},
   "source": [
    "# Datascience tools and ecosystem"
   ]
  },
  {
   "cell_type": "markdown",
   "id": "0ac5459a-48a3-4936-9fbc-d7346bdb6482",
   "metadata": {},
   "source": [
    "# In this notebook, Data Science Tools and Ecosystem are summarized."
   ]
  },
  {
   "cell_type": "markdown",
   "id": "803b94e5-72b0-405c-b59b-096da9292a00",
   "metadata": {},
   "source": [
    "# Data Science Tools and Ecosystem\n",
    "\n",
    "Some of the popular languages that Data Scientists use are:\n",
    "\n",
    "1. Python\n",
    "2. R\n",
    "3. SQL\n",
    "4. Julia\n",
    "5. Scala\n"
   ]
  },
  {
   "cell_type": "markdown",
   "id": "93b245a9-8a96-4b90-9bbe-8220e06d71da",
   "metadata": {},
   "source": [
    "# Data Science Tools and Ecosystem\n",
    "\n",
    "Some of the commonly used libraries used by Data Scientists include:\n",
    "\n",
    "1. Pandas\n",
    "2. NumPy\n",
    "3. Matplotlib\n",
    "4. Scikit-learn\n",
    "5. TensorFlow\n"
   ]
  },
  {
   "cell_type": "markdown",
   "id": "94322937-0201-4516-8ea2-2493e2fbb89e",
   "metadata": {},
   "source": [
    "# Arithmetic Expression Examples\n",
    "### Below are a few examples of evaluating arithmetic expressions in Python.\n"
   ]
  },
  {
   "cell_type": "markdown",
   "id": "360132a9-1c9b-4b0f-b895-00b47a494147",
   "metadata": {},
   "source": [
    "# This is a simple arithmetic expression to multiply then add integers.\n",
    "result = (3 * 4) + 5\n",
    "result\n"
   ]
  },
  {
   "cell_type": "markdown",
   "id": "bf8d8cab-d28a-486d-8974-32eae81d4db8",
   "metadata": {},
   "source": [
    "\r\n",
    "# This will convert 200 minutes to hours by dividing by 60\r\n",
    "hours = 200 / 60\r\n",
    "hours"
   ]
  },
  {
   "cell_type": "markdown",
   "id": "7862e68c-4881-484d-9440-ee0723dbfe74",
   "metadata": {},
   "source": [
    "**Objectives:**\n",
    "\n",
    "- List popular languages for Data Science.\n",
    "- Identify commonly used libraries in Data Science.\n",
    "- Evaluate arithmetic expressions in Python.\n",
    "- Understand basic arithmetic operations.\n",
    "- Explore data science tools and ecosystems.\n"
   ]
  },
  {
   "cell_type": "markdown",
   "id": "9222381d-0fe7-426a-8792-bad1ee38f982",
   "metadata": {},
   "source": [
    "## Author\n",
    "\n",
    "SOMA Ben Idriss Diloma\n"
   ]
  },
  {
   "cell_type": "code",
   "execution_count": null,
   "id": "53fcdc09-2f36-4378-a2d7-2d1856b9927d",
   "metadata": {},
   "outputs": [],
   "source": []
  }
 ],
 "metadata": {
  "kernelspec": {
   "display_name": "Python 3 (ipykernel)",
   "language": "python",
   "name": "python3"
  },
  "language_info": {
   "codemirror_mode": {
    "name": "ipython",
    "version": 3
   },
   "file_extension": ".py",
   "mimetype": "text/x-python",
   "name": "python",
   "nbconvert_exporter": "python",
   "pygments_lexer": "ipython3",
   "version": "3.12.4"
  }
 },
 "nbformat": 4,
 "nbformat_minor": 5
}
